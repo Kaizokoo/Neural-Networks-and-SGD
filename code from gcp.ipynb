#code from gcp will be put here
